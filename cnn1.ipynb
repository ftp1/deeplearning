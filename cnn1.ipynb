{
  "nbformat": 4,
  "nbformat_minor": 0,
  "metadata": {
    "colab": {
      "name": "Untitled0.ipynb",
      "provenance": [],
      "collapsed_sections": [],
      "authorship_tag": "ABX9TyPZyk6mOAKKniRbvlRQlWT3",
      "include_colab_link": true
    },
    "kernelspec": {
      "name": "python3",
      "display_name": "Python 3"
    }
  },
  "cells": [
    {
      "cell_type": "markdown",
      "metadata": {
        "id": "view-in-github",
        "colab_type": "text"
      },
      "source": [
        "<a href=\"https://colab.research.google.com/github/ftp1/deeplearning/blob/master/cnn1.ipynb\" target=\"_parent\"><img src=\"https://colab.research.google.com/assets/colab-badge.svg\" alt=\"Open In Colab\"/></a>"
      ]
    },
    {
      "cell_type": "code",
      "metadata": {
        "id": "I4LsFub2s0Ss",
        "colab_type": "code",
        "colab": {
          "base_uri": "https://localhost:8080/",
          "height": 772
        },
        "outputId": "cc23990e-6b6e-4fe8-b6f8-b9f06b770e04"
      },
      "source": [
        "from __future__ import print_function\n",
        "import keras\n",
        "from keras.datasets import mnist\n",
        "from keras.layers import Dense, Flatten\n",
        "from keras.layers import Conv2D, MaxPooling2D\n",
        "from keras.models import Sequential\n",
        "import matplotlib.pylab as plt\n",
        "\n",
        "batch_size = 128\n",
        "num_classes = 10\n",
        "epochs = 10\n",
        "\n",
        "# input image dimensions\n",
        "img_x, img_y = 28, 28\n",
        "\n",
        "# load the MNIST data set, which already splits into train and test sets for us\n",
        "(x_train, y_train), (x_test, y_test) = mnist.load_data()\n",
        "\n",
        "# reshape the data into a 4D tensor - (sample_number, x_img_size, y_img_size, num_channels)\n",
        "# because the MNIST is greyscale, we only have a single channel - RGB colour images would have 3\n",
        "x_train = x_train.reshape(x_train.shape[0], img_x, img_y, 1)\n",
        "x_test = x_test.reshape(x_test.shape[0], img_x, img_y, 1)\n",
        "input_shape = (img_x, img_y, 1)\n",
        "\n",
        "# convert the data to the right type\n",
        "x_train = x_train.astype('float32')\n",
        "x_test = x_test.astype('float32')\n",
        "x_train /= 255\n",
        "x_test /= 255\n",
        "print('x_train shape:', x_train.shape)\n",
        "print(x_train.shape[0], 'train samples')\n",
        "print(x_test.shape[0], 'test samples')\n",
        "\n",
        "# convert class vectors to binary class matrices - this is for use in the\n",
        "# categorical_crossentropy loss below\n",
        "y_train = keras.utils.to_categorical(y_train, num_classes)\n",
        "y_test = keras.utils.to_categorical(y_test, num_classes)\n",
        "\n",
        "model = Sequential()\n",
        "model.add(Conv2D(32, kernel_size=(5, 5), strides=(1, 1),\n",
        "                 activation='relu',\n",
        "                 input_shape=input_shape))\n",
        "model.add(MaxPooling2D(pool_size=(2, 2), strides=(2, 2)))\n",
        "model.add(Conv2D(64, (5, 5), activation='relu'))\n",
        "model.add(MaxPooling2D(pool_size=(2, 2)))\n",
        "model.add(Flatten())\n",
        "model.add(Dense(1000, activation='relu'))\n",
        "model.add(Dense(num_classes, activation='softmax'))\n",
        "\n",
        "model.compile(loss=keras.losses.categorical_crossentropy,\n",
        "              optimizer=keras.optimizers.Adam(),\n",
        "              metrics=['accuracy'])\n",
        "\n",
        "\n",
        "class AccuracyHistory(keras.callbacks.Callback):\n",
        "    def on_train_begin(self, logs={}):\n",
        "        self.acc = []\n",
        "\n",
        "    def on_epoch_end(self, batch, logs={}):\n",
        "        self.acc.append(logs.get('acc'))\n",
        "\n",
        "history = AccuracyHistory()\n",
        "\n",
        "model.fit(x_train, y_train,\n",
        "          batch_size=batch_size,\n",
        "          epochs=epochs,\n",
        "          verbose=1,\n",
        "          validation_data=(x_test, y_test),\n",
        "          callbacks=[history])\n",
        "score = model.evaluate(x_test, y_test, verbose=0)\n",
        "print('Test loss:', score[0])\n",
        "print('Test accuracy:', score[1])\n",
        "plt.plot(range(1, 11), history.acc)\n",
        "plt.xlabel('Epochs')\n",
        "plt.ylabel('Accuracy')\n",
        "plt.show()"
      ],
      "execution_count": 1,
      "outputs": [
        {
          "output_type": "stream",
          "text": [
            "Using TensorFlow backend.\n"
          ],
          "name": "stderr"
        },
        {
          "output_type": "stream",
          "text": [
            "Downloading data from https://s3.amazonaws.com/img-datasets/mnist.npz\n",
            "11493376/11490434 [==============================] - 0s 0us/step\n",
            "x_train shape: (60000, 28, 28, 1)\n",
            "60000 train samples\n",
            "10000 test samples\n",
            "Train on 60000 samples, validate on 10000 samples\n",
            "Epoch 1/10\n",
            "60000/60000 [==============================] - 68s 1ms/step - loss: 0.1551 - accuracy: 0.9529 - val_loss: 0.0388 - val_accuracy: 0.9875\n",
            "Epoch 2/10\n",
            "60000/60000 [==============================] - 67s 1ms/step - loss: 0.0421 - accuracy: 0.9870 - val_loss: 0.0315 - val_accuracy: 0.9898\n",
            "Epoch 3/10\n",
            "60000/60000 [==============================] - 66s 1ms/step - loss: 0.0285 - accuracy: 0.9911 - val_loss: 0.0297 - val_accuracy: 0.9901\n",
            "Epoch 4/10\n",
            "60000/60000 [==============================] - 68s 1ms/step - loss: 0.0223 - accuracy: 0.9929 - val_loss: 0.0248 - val_accuracy: 0.9920\n",
            "Epoch 5/10\n",
            "60000/60000 [==============================] - 68s 1ms/step - loss: 0.0166 - accuracy: 0.9943 - val_loss: 0.0204 - val_accuracy: 0.9934\n",
            "Epoch 6/10\n",
            "60000/60000 [==============================] - 68s 1ms/step - loss: 0.0132 - accuracy: 0.9961 - val_loss: 0.0229 - val_accuracy: 0.9932\n",
            "Epoch 7/10\n",
            "60000/60000 [==============================] - 68s 1ms/step - loss: 0.0098 - accuracy: 0.9970 - val_loss: 0.0380 - val_accuracy: 0.9903\n",
            "Epoch 8/10\n",
            "60000/60000 [==============================] - 66s 1ms/step - loss: 0.0092 - accuracy: 0.9970 - val_loss: 0.0377 - val_accuracy: 0.9895\n",
            "Epoch 9/10\n",
            "60000/60000 [==============================] - 66s 1ms/step - loss: 0.0090 - accuracy: 0.9969 - val_loss: 0.0284 - val_accuracy: 0.9927\n",
            "Epoch 10/10\n",
            "60000/60000 [==============================] - 66s 1ms/step - loss: 0.0066 - accuracy: 0.9978 - val_loss: 0.0353 - val_accuracy: 0.9897\n",
            "Test loss: 0.03530512710762287\n",
            "Test accuracy: 0.9897000193595886\n"
          ],
          "name": "stdout"
        },
        {
          "output_type": "display_data",
          "data": {
            "image/png": "[encoded data removed]",
            "text/plain": [
              "<Figure size 432x288 with 1 Axes>"
            ]
          },
          "metadata": {
            "tags": [],
            "needs_background": "light"
          }
        }
      ]
    }
  ]
}